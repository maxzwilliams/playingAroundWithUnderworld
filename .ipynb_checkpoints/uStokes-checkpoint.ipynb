{
 "cells": [
  {
   "cell_type": "markdown",
   "id": "edec6607",
   "metadata": {},
   "source": [
    "# Understanding Stokes Flow"
   ]
  },
  {
   "cell_type": "markdown",
   "id": "45b51500",
   "metadata": {},
   "source": [
    "I want to know how the stokes equation is solved in underworld 3. The stokes equation is of the form \n",
    "$$\\nabla \\cdot \\vec{\\sigma} = \\vec{f}$$"
   ]
  },
  {
   "cell_type": "code",
   "execution_count": null,
   "id": "f2ce8b82",
   "metadata": {},
   "outputs": [],
   "source": []
  }
 ],
 "metadata": {
  "kernelspec": {
   "display_name": "Python 3 (ipykernel)",
   "language": "python",
   "name": "python3"
  },
  "language_info": {
   "codemirror_mode": {
    "name": "ipython",
    "version": 3
   },
   "file_extension": ".py",
   "mimetype": "text/x-python",
   "name": "python",
   "nbconvert_exporter": "python",
   "pygments_lexer": "ipython3",
   "version": "3.10.11"
  }
 },
 "nbformat": 4,
 "nbformat_minor": 5
}
