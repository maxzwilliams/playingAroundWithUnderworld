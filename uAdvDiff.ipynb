{
 "cells": [
  {
   "cell_type": "markdown",
   "id": "3a4989a2",
   "metadata": {},
   "source": [
    "# Understanding the advection diffusion solver in Underworld3"
   ]
  },
  {
   "cell_type": "markdown",
   "id": "303961f4",
   "metadata": {},
   "source": [
    "We want to understand how the advection diffusion solver in underworld 3 works, by solving progresssively more complicated problems. THe advection diffusion equation is of the form:\n",
    "$$\\frac{d c}{d t} + \\vec{u} \\cdot \\nabla c = D \\nabla^2 c$$"
   ]
  },
  {
   "cell_type": "code",
   "execution_count": null,
   "id": "dada7e97",
   "metadata": {},
   "outputs": [],
   "source": []
  }
 ],
 "metadata": {
  "kernelspec": {
   "display_name": "Python 3 (ipykernel)",
   "language": "python",
   "name": "python3"
  },
  "language_info": {
   "codemirror_mode": {
    "name": "ipython",
    "version": 3
   },
   "file_extension": ".py",
   "mimetype": "text/x-python",
   "name": "python",
   "nbconvert_exporter": "python",
   "pygments_lexer": "ipython3",
   "version": "3.10.11"
  }
 },
 "nbformat": 4,
 "nbformat_minor": 5
}
