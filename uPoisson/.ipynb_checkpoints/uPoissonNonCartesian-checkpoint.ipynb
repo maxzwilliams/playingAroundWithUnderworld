{
 "cells": [
  {
   "cell_type": "markdown",
   "id": "00efc834",
   "metadata": {},
   "source": [
    "# Understanding how to solve the poisson equation in Underworld 3 in non-cartesian geometries"
   ]
  },
  {
   "cell_type": "raw",
   "id": "12d51c9b",
   "metadata": {},
   "source": [
    "We will generalise our solution to solving the poisson equation on a 2D and 3D spherical shells. "
   ]
  },
  {
   "cell_type": "code",
   "execution_count": 14,
   "id": "e3d213e6",
   "metadata": {},
   "outputs": [],
   "source": [
    "import underworld3 as uw"
   ]
  },
  {
   "cell_type": "markdown",
   "id": "8021a7ea",
   "metadata": {},
   "source": [
    "We define a mesh on a 2-dimensional annulus. With an inner radius of 0.1, an outer radius of 1, a mesh cell size of 0.1 and a quadrature degree of 5. "
   ]
  },
  {
   "cell_type": "code",
   "execution_count": 15,
   "id": "0be57be8",
   "metadata": {},
   "outputs": [],
   "source": [
    "mesh = uw.meshing.Annulus(radiusInner=0.1, radiusOuter=1, cellSize=0.1, qdegree=5)"
   ]
  },
  {
   "cell_type": "markdown",
   "id": "db3260b8",
   "metadata": {},
   "source": [
    "our mesh still has cartesian coordinates x and y"
   ]
  },
  {
   "cell_type": "markdown",
   "id": "5a9b0a69",
   "metadata": {},
   "source": []
  },
  {
   "cell_type": "code",
   "execution_count": null,
   "id": "94f34d69",
   "metadata": {},
   "outputs": [],
   "source": []
  }
 ],
 "metadata": {
  "kernelspec": {
   "display_name": "Python 3 (ipykernel)",
   "language": "python",
   "name": "python3"
  },
  "language_info": {
   "codemirror_mode": {
    "name": "ipython",
    "version": 3
   },
   "file_extension": ".py",
   "mimetype": "text/x-python",
   "name": "python",
   "nbconvert_exporter": "python",
   "pygments_lexer": "ipython3",
   "version": "3.10.11"
  }
 },
 "nbformat": 4,
 "nbformat_minor": 5
}
