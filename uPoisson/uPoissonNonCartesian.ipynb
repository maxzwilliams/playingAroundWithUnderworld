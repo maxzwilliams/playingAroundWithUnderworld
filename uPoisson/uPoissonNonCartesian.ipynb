{
 "cells": [
  {
   "cell_type": "markdown",
   "id": "b8d2fe28",
   "metadata": {},
   "source": [
    "# Understanding how to solve the poisson equation in Underworld 3 in non-cartesian geometries"
   ]
  },
  {
   "cell_type": "raw",
   "id": "af896c29",
   "metadata": {},
   "source": [
    "We will generalise our solution to solving the poisson equation on a 2D and 3D spherical shells. "
   ]
  },
  {
   "cell_type": "code",
   "execution_count": 14,
   "id": "70cabae6",
   "metadata": {},
   "outputs": [],
   "source": [
    "import underworld3 as uw"
   ]
  },
  {
   "cell_type": "markdown",
   "id": "efed4e3c",
   "metadata": {},
   "source": [
    "We define a mesh on a 2-dimensional annulus. With an inner radius of 0.1, an outer radius of 1, a mesh cell size of 0.1 and a quadrature degree of 5. "
   ]
  },
  {
   "cell_type": "code",
   "execution_count": 15,
   "id": "1912f4e6",
   "metadata": {},
   "outputs": [],
   "source": [
    "mesh = uw.meshing.Annulus(radiusInner=0.1, radiusOuter=1, cellSize=0.1, qdegree=5)"
   ]
  },
  {
   "cell_type": "markdown",
   "id": "cf01179c",
   "metadata": {},
   "source": [
    "our mesh still has cartesian coordinates x and y"
   ]
  },
  {
   "cell_type": "code",
   "execution_count": 16,
   "id": "f56b0cc1",
   "metadata": {},
   "outputs": [
    {
     "data": {
      "text/latex": [
       "$\\displaystyle \\left[\\begin{matrix}\\mathrm{x} & \\mathrm{y}\\end{matrix}\\right]$"
      ],
      "text/plain": [
       "Matrix([[N.x, N.y]])"
      ]
     },
     "execution_count": 16,
     "metadata": {},
     "output_type": "execute_result"
    }
   ],
   "source": [
    "mesh.X"
   ]
  },
  {
   "cell_type": "markdown",
   "id": "51173bd8",
   "metadata": {},
   "source": [
    "We define our frield $\\phi$ on the mesh as a scalar with degree 3."
   ]
  },
  {
   "cell_type": "code",
   "execution_count": 18,
   "id": "a8c2b4a4",
   "metadata": {},
   "outputs": [
    {
     "name": "stdout",
     "output_type": "stream",
     "text": [
      "Variable with name r\\phi already exists on the mesh - Skipping.\n"
     ]
    }
   ],
   "source": [
    "phi = uw.discretisation.MeshVariable(\"r\\phi\", mesh, 1, degree=3)"
   ]
  },
  {
   "cell_type": "markdown",
   "id": "660d1ae6",
   "metadata": {},
   "source": [
    "Create a poisson solver"
   ]
  },
  {
   "cell_type": "code",
   "execution_count": 20,
   "id": "9ef00fbf",
   "metadata": {},
   "outputs": [
    {
     "name": "stdout",
     "output_type": "stream",
     "text": [
      "staring the Poisson solver\n"
     ]
    }
   ],
   "source": [
    "poisson_solver = uw.systems.Poisson(mesh, u_Field=phi)\n",
    "poisson_solver.constitutive_model = uw.systems.constitutive_models.DiffusionModel(mesh.dim)\n",
    "poisson_solver.constitutive_model.Parameters.diffusivity = 1"
   ]
  },
  {
   "cell_type": "markdown",
   "id": "51f8887e",
   "metadata": {},
   "source": [
    "I think the code in Ex_Poisson_Spherical is actually pretty good at testing all of this, so I will leave it there."
   ]
  },
  {
   "cell_type": "code",
   "execution_count": null,
   "id": "af30fb9e",
   "metadata": {},
   "outputs": [],
   "source": []
  }
 ],
 "metadata": {
  "kernelspec": {
   "display_name": "Python 3 (ipykernel)",
   "language": "python",
   "name": "python3"
  },
  "language_info": {
   "codemirror_mode": {
    "name": "ipython",
    "version": 3
   },
   "file_extension": ".py",
   "mimetype": "text/x-python",
   "name": "python",
   "nbconvert_exporter": "python",
   "pygments_lexer": "ipython3",
   "version": "3.10.11"
  }
 },
 "nbformat": 4,
 "nbformat_minor": 5
}
