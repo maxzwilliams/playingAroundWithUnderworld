{
 "cells": [
  {
   "cell_type": "code",
   "execution_count": 1,
   "metadata": {},
   "outputs": [],
   "source": [
    "import underworld3 as uw"
   ]
  },
  {
   "cell_type": "code",
   "execution_count": 2,
   "metadata": {},
   "outputs": [],
   "source": [
    "mesh = uw.meshing.UnstructuredSimplexBox(minCoords=(0.0, 0.0), maxCoords=(1.0, 1.0), cellSize= 1.0 / (24), qdegree=5)"
   ]
  },
  {
   "cell_type": "code",
   "execution_count": 3,
   "metadata": {},
   "outputs": [
    {
     "name": "stdout",
     "output_type": "stream",
     "text": [
      "Variable with name r/v already exists on the mesh - Skipping.\n"
     ]
    }
   ],
   "source": [
    "velocity = uw.discretisation.MeshVariable(\"r/v\", mesh, 2, degree=2)\n",
    "pressure = uw.discretisation.MeshVariable(\"r/v\", mesh, 1, degree=2)"
   ]
  },
  {
   "cell_type": "code",
   "execution_count": 4,
   "metadata": {},
   "outputs": [],
   "source": [
    "stokes_solver = uw.systems.Stokes(mesh, velocity, pressure)\n",
    "poisson_solver = uw.systems.Poisson(mesh, pressure)"
   ]
  },
  {
   "cell_type": "code",
   "execution_count": 5,
   "metadata": {},
   "outputs": [
    {
     "data": {
      "text/markdown": [
       "\n",
       "This class provides functionality for a discrete representation\n",
       "of the Stokes flow equations assuming an incompressibility\n",
       "(or near-incompressibility) constraint.\n",
       "\n",
       "$$\\frac{\\partial}{\\partial x_j} \\left( \\frac{\\eta}{2} \\left[ \\frac{\\partial u_i}{\\partial x_j}  +\n",
       "        \\frac{\\partial u_j}{\\partial x_i} \\right]\\right) - \\frac{\\partial p}{\\partial x_i} = f_i$$\n",
       "\n",
       "$$\\frac{\\partial u_i}{\\partial x_i} = 0$$\n",
       "\n",
       "## Properties\n",
       "\n",
       "  - The viscosity, $ \\eta $ is provided by setting the `constitutive_model` property to\n",
       "one of the `uw.systems.constitutive_models` classes and populating the parameters.\n",
       "It is usually a constant or a function of position / time and may also be non-linear\n",
       "or anisotropic.\n",
       "\n",
       "  - The bodyforce term, $ f_i $ is provided through the `bodyforce` property.\n",
       "\n",
       "  - The Augmented Lagrangian approach to application of the incompressibility\n",
       "constraint is to penalise incompressibility in the Stokes equation by adding\n",
       "$ \\lambda \\nabla \\cdot \\mathbf{u} $ when the weak form of the equations is constructed.\n",
       "(this is in addition to the constraint equation, unlike in the classical penalty method).\n",
       "This is activated by setting the `penalty` property to a non-zero floating point value.\n",
       "\n",
       "  - A preconditioner is usually required for the saddle point system and this is provided\n",
       "though the `saddle_preconditioner` property. A common choice is $ 1/ \\eta $ or\n",
       "$ 1 / \\eta + 1/ \\lambda $ if a penalty is used\n",
       "\n",
       "\n",
       "## Notes\n",
       "\n",
       "  - The interpolation order of the `pressureField` variable is used to determine the integration order of\n",
       "the mixed finite element method and is usually lower than the order of the `velocityField` variable.\n",
       "\n",
       "  - It is possible to set discontinuous pressure variables by setting the `p_continous` option to `False`\n",
       "(currently this is not implemented).\n",
       "\n",
       "  - The `solver_name` parameter sets the namespace for PETSc options and should be unique and\n",
       "compatible with the PETSc naming conventions.\n"
      ],
      "text/plain": [
       "<IPython.core.display.Markdown object>"
      ]
     },
     "metadata": {},
     "output_type": "display_data"
    },
    {
     "data": {
      "text/markdown": [
       "This solver is formulated in 2 dimensions"
      ],
      "text/plain": [
       "<IPython.core.display.Markdown object>"
      ]
     },
     "metadata": {},
     "output_type": "display_data"
    }
   ],
   "source": [
    "stokes_solver"
   ]
  },
  {
   "cell_type": "code",
   "execution_count": 6,
   "metadata": {},
   "outputs": [
    {
     "data": {
      "text/markdown": [
       "\n",
       "This class provides functionality for a discrete repressentation \n",
       "of the Poisson equation.\n",
       "\n",
       "$$ \\nabla \\cdot (k \\nabla \\phi) = f $$\n",
       "\n",
       "The solver computers the flux $\\vec{F} = k \\nabla \\phi$ and solves the equation\n",
       "$$ \\nabla \\cdot \\vec{F} -  f = 0 $$\n",
       "\n",
       "## Properties \n",
       "\n",
       "- The diffusivity $ \\kappa $ is specified by setting the 'consitutive_model' property to\n",
       "one of the 'uw.systems.constitutive_models' classes and populating its parameters. This can be\n",
       "done through the 'DiffusionModel' - see underworld3/JupyterNotebook/Notebooks/Examples-PoissonEquation.\n",
       "\n",
       "- Some description on how it works (cant be done by max)\n",
       "\n",
       "- The source term, $ S $ is specified by the 'f' property of the solver\n",
       "\n",
       "\n",
       "## Notes\n",
       "- The diffusivity should be strictly positive, and can be a function of position / time or the scalar field $ \\phi $\n",
       "$ \\phi \\ )\n",
       "\n"
      ],
      "text/plain": [
       "<IPython.core.display.Markdown object>"
      ]
     },
     "metadata": {},
     "output_type": "display_data"
    },
    {
     "data": {
      "text/markdown": [
       "This solver is formulated in 2 dimensions"
      ],
      "text/plain": [
       "<IPython.core.display.Markdown object>"
      ]
     },
     "metadata": {},
     "output_type": "display_data"
    }
   ],
   "source": [
    "poisson_solver"
   ]
  },
  {
   "cell_type": "code",
   "execution_count": null,
   "metadata": {},
   "outputs": [],
   "source": []
  },
  {
   "cell_type": "code",
   "execution_count": null,
   "metadata": {},
   "outputs": [],
   "source": []
  }
 ],
 "metadata": {
  "kernelspec": {
   "display_name": "Python 3 (ipykernel)",
   "language": "python",
   "name": "python3"
  },
  "language_info": {
   "codemirror_mode": {
    "name": "ipython",
    "version": 3
   },
   "file_extension": ".py",
   "mimetype": "text/x-python",
   "name": "python",
   "nbconvert_exporter": "python",
   "pygments_lexer": "ipython3",
   "version": "3.10.11"
  }
 },
 "nbformat": 4,
 "nbformat_minor": 2
}
